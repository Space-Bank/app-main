{
 "cells": [
  {
   "cell_type": "code",
   "execution_count": 1,
   "metadata": {},
   "outputs": [],
   "source": [
    "from IPython.display import display \n",
    "from PIL import Image\n",
    "import random\n",
    "import json\n",
    "import os\n",
    "\n",
    "f = open('./metadata/all-objects.json')\n",
    "all_images = json.load(f)\n",
    "\n",
    "cid = input(\"IPFS Image CID (): \")\n",
    "if len(cid) > 0:\n",
    "  if not cid.startswith(\"ipfs://\"):\n",
    "    # cid = \"ipfs://{}\".format(cid)\n",
    "    cid = cid\n",
    "  if cid.endswith(\"/\"):\n",
    "    cid = cid[:-1]\n",
    "  for i, item in enumerate(all_images):\n",
    "    with open('./metadata/' + str(item[\"tokenId\"]) + '.json', 'r') as infile:\n",
    "      original_json = json.loads(infile.read())\n",
    "      original_json[\"image\"] = original_json[\"image\"] = f'{cid}/{str(item[\"tokenId\"])}.png'\n",
    "      with open('./metadata/' + str(item[\"tokenId\"]) + '.json', 'w') as outfile:\n",
    "        json.dump(original_json, outfile, indent=4)"
   ]
  }
 ],
 "metadata": {
  "interpreter": {
   "hash": "aee8b7b246df8f9039afb4144a1f6fd8d2ca17a180786b69acc140d282b71a49"
  },
  "kernelspec": {
   "display_name": "Python 3.10.4 64-bit",
   "language": "python",
   "name": "python3"
  },
  "language_info": {
   "codemirror_mode": {
    "name": "ipython",
    "version": 3
   },
   "file_extension": ".py",
   "mimetype": "text/x-python",
   "name": "python",
   "nbconvert_exporter": "python",
   "pygments_lexer": "ipython3",
   "version": "3.10.4"
  },
  "orig_nbformat": 4
 },
 "nbformat": 4,
 "nbformat_minor": 2
}
